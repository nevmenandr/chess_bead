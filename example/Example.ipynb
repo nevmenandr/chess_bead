{
 "cells": [
  {
   "cell_type": "code",
   "execution_count": 1,
   "metadata": {
    "collapsed": true
   },
   "outputs": [],
   "source": [
    "import chess_bead as cb"
   ]
  },
  {
   "cell_type": "markdown",
   "metadata": {},
   "source": [
    "# Play the game"
   ]
  },
  {
   "cell_type": "markdown",
   "metadata": {},
   "source": [
    "Choose the chess game (N 21) and the poem (N 130) while creating class `Game` instance."
   ]
  },
  {
   "cell_type": "code",
   "execution_count": 2,
   "metadata": {
    "collapsed": true
   },
   "outputs": [],
   "source": [
    "g = cb.Game(chess_game=21, poem_num=130)"
   ]
  },
  {
   "cell_type": "markdown",
   "metadata": {},
   "source": [
    "How the original poem looks like before the game?"
   ]
  },
  {
   "cell_type": "code",
   "execution_count": 3,
   "metadata": {},
   "outputs": [
    {
     "data": {
      "text/plain": [
       "[['新', '婦', '去', '年', '胼', '手', '足', '，'],\n",
       " ['衣', '不', '暇', '縫', '蠶', '廢', '簇', '。'],\n",
       " ['白', '頭', '使', '我', '憂', '家', '事', '，'],\n",
       " ['還', '如', '夜', '裏', '燒', '殘', '燭', '。'],\n",
       " ['當', '初', '為', '取', '傍', '人', '語', '，'],\n",
       " ['豈', '道', '如', '今', '自', '辛', '苦', '。'],\n",
       " ['在', '時', '縱', '嫌', '織', '絹', '遲', '，'],\n",
       " ['有', '絲', '不', '上', '鄰', '家', '機', '。']]"
      ]
     },
     "execution_count": 3,
     "metadata": {},
     "output_type": "execute_result"
    }
   ],
   "source": [
    "g.lines"
   ]
  },
  {
   "cell_type": "markdown",
   "metadata": {},
   "source": [
    "Call the method `start_game`, this will create all the permutations for the poem. We **must** pass the original poem as a list of lists to the method. It will return the list of objects `Move`. These objects contain the position of characters and the move (coordinates of the characters `from` and `to`)."
   ]
  },
  {
   "cell_type": "code",
   "execution_count": 4,
   "metadata": {
    "collapsed": true
   },
   "outputs": [],
   "source": [
    "l = g.start_game()"
   ]
  },
  {
   "cell_type": "markdown",
   "metadata": {},
   "source": [
    "Let's look to the poem after the 10th move"
   ]
  },
  {
   "cell_type": "code",
   "execution_count": 5,
   "metadata": {},
   "outputs": [
    {
     "data": {
      "text/plain": [
       "[['新', '裏', '去', '年', '胼', '手', '家', '，'],\n",
       " ['衣', '不', '暇', '婦', '憂', '廢', '簇', '。'],\n",
       " ['白', '頭', '使', '我', '蠶', '足', '事', '，'],\n",
       " ['還', '如', '夜', '織', '燒', '殘', '不', '。'],\n",
       " ['當', '初', '為', '嫌', '絲', '人', '語', '，'],\n",
       " ['豈', '道', '縫', '今', '自', '辛', '苦', '。'],\n",
       " ['在', '時', '縱', '取', '傍', '絹', '遲', '，'],\n",
       " ['有', '如', '燭', '上', '鄰', '家', '機', '。']]"
      ]
     },
     "execution_count": 5,
     "metadata": {},
     "output_type": "execute_result"
    }
   ],
   "source": [
    "l[10].lines"
   ]
  },
  {
   "cell_type": "markdown",
   "metadata": {},
   "source": [
    "Please read and come up with an interpretation of this text."
   ]
  },
  {
   "cell_type": "code",
   "execution_count": 6,
   "metadata": {},
   "outputs": [
    {
     "name": "stdout",
     "output_type": "stream",
     "text": [
      "新裏去年胼手家，\n",
      "衣不暇婦憂廢簇。\n",
      "白頭使我蠶足事，\n",
      "還如夜織燒殘不。\n",
      "當初為嫌絲人語，\n",
      "豈道縫今自辛苦。\n",
      "在時縱取傍絹遲，\n",
      "有如燭上鄰家機。\n"
     ]
    }
   ],
   "source": [
    "permutated =[]\n",
    "for line in l[10].lines:\n",
    "    permutated.append(''.join(line))\n",
    "permutated_text = '\\n'.join(permutated)\n",
    "print(permutated_text)"
   ]
  },
  {
   "cell_type": "markdown",
   "metadata": {},
   "source": [
    "# Visualize"
   ]
  },
  {
   "cell_type": "code",
   "execution_count": 7,
   "metadata": {
    "collapsed": true
   },
   "outputs": [],
   "source": [
    "v = cb.Viz(l, g.author, g.title, output_path='.')   # As for the author and the title would be displayed on the picture, \n",
    "                                                    # we must pass it to the method.\n",
    "                                                    # Let's set the folder (just working directory) where png files\n",
    "                                                    # would be put."
   ]
  },
  {
   "cell_type": "code",
   "execution_count": 8,
   "metadata": {
    "collapsed": true
   },
   "outputs": [],
   "source": [
    "v.png(l[10], 10) # make a PNG picture of the position after the 10th move\n",
    "                 # it's colored by default"
   ]
  },
  {
   "cell_type": "markdown",
   "metadata": {},
   "source": [
    "![position after the 10th move](./0010.png)"
   ]
  },
  {
   "cell_type": "markdown",
   "metadata": {},
   "source": [
    "# Animation"
   ]
  },
  {
   "cell_type": "markdown",
   "metadata": {},
   "source": [
    "## gif"
   ]
  },
  {
   "cell_type": "code",
   "execution_count": 9,
   "metadata": {
    "collapsed": true
   },
   "outputs": [],
   "source": [
    "v = cb.Viz(l, g.author, g.title, gif_filename='game21_poem130.gif') # Set output_path to None to generate pictures \n",
    "                                                                    # in a tmp directory. This prevents annoying \n",
    "                                                                    # files from appearing in the working directory.\n",
    "                                                                    # The name of the gif file now contains the game \n",
    "                                                                    # and poem numbers (optional)."
   ]
  },
  {
   "cell_type": "code",
   "execution_count": 10,
   "metadata": {
    "collapsed": true
   },
   "outputs": [],
   "source": [
    "v.gif() # generate the gif!"
   ]
  },
  {
   "cell_type": "markdown",
   "metadata": {
    "collapsed": true
   },
   "source": [
    "![gif animation of the game](./game21_poem130.gif)"
   ]
  },
  {
   "cell_type": "markdown",
   "metadata": {},
   "source": [
    "## mp4"
   ]
  },
  {
   "cell_type": "markdown",
   "metadata": {},
   "source": [
    "There is no built-in tool for making `mp4` from the png files. But you can use `ffmpeg`."
   ]
  },
  {
   "cell_type": "code",
   "execution_count": 11,
   "metadata": {
    "collapsed": true
   },
   "outputs": [],
   "source": [
    "import os"
   ]
  },
  {
   "cell_type": "code",
   "execution_count": 13,
   "metadata": {},
   "outputs": [
    {
     "data": {
      "text/plain": [
       "0"
      ]
     },
     "execution_count": 13,
     "metadata": {},
     "output_type": "execute_result"
    }
   ],
   "source": [
    "os.system(\"ffmpeg -r 2 -f image2 -s 600x800 -i {}/%04d.png -vcodec libx264 -crf 25  -pix_fmt yuv420p ./output.mp4\".format(v.path))"
   ]
  },
  {
   "cell_type": "markdown",
   "metadata": {},
   "source": [
    "# Cleanup"
   ]
  },
  {
   "cell_type": "code",
   "execution_count": 14,
   "metadata": {
    "collapsed": true
   },
   "outputs": [],
   "source": [
    "del v # You need to do this to delete the tmp directory"
   ]
  }
 ],
 "metadata": {
  "kernelspec": {
   "display_name": "Python 3",
   "language": "python",
   "name": "python3"
  },
  "language_info": {
   "codemirror_mode": {
    "name": "ipython",
    "version": 3
   },
   "file_extension": ".py",
   "mimetype": "text/x-python",
   "name": "python",
   "nbconvert_exporter": "python",
   "pygments_lexer": "ipython3",
   "version": "3.5.3"
  }
 },
 "nbformat": 4,
 "nbformat_minor": 2
}
